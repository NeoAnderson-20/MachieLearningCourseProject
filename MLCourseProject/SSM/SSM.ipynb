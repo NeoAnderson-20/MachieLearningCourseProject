{
 "cells": [
  {
   "cell_type": "code",
   "execution_count": 300,
   "metadata": {},
   "outputs": [],
   "source": [
    "# 导入一些模块\n",
    "from math import sqrt\n",
    "from numpy import concatenate\n",
    "from matplotlib import pyplot\n",
    "from pandas import read_csv\n",
    "from pandas import DataFrame\n",
    "from pandas import concat\n",
    "from sklearn.preprocessing import MinMaxScaler\n",
    "from sklearn.preprocessing import LabelEncoder\n",
    "from sklearn.metrics import mean_squared_error\n",
    "from keras.models import Sequential\n",
    "from keras.layers import Dense\n",
    "from keras.layers import LSTM\n",
    "import pandas as pd\n",
    "import numpy as np\n",
    "import tensorflow as tf\n",
    "from keras.layers import Input, Dense, Lambda, concatenate, Conv1D, GRU, add, Add, LSTM,Dropout,TimeDistributed\n",
    "from keras.constraints import non_neg, unit_norm\n",
    "from keras.models import Model\n",
    "from keras.layers import Layer\n",
    "from keras.initializers import random_uniform\n",
    "\n",
    "from keras.callbacks import EarlyStopping"
   ]
  },
  {
   "cell_type": "code",
   "execution_count": 301,
   "metadata": {},
   "outputs": [
    {
     "name": "stderr",
     "output_type": "stream",
     "text": [
      "C:\\Users\\12204\\AppData\\Local\\Temp\\ipykernel_19704\\1024496477.py:3: FutureWarning: The argument 'infer_datetime_format' is deprecated and will be removed in a future version. A strict version of it is now the default, see https://pandas.pydata.org/pdeps/0004-consistent-to-datetime-parsing.html. You can safely remove this argument.\n",
      "  dataset_train=pd.read_csv(\"train_set.csv\",infer_datetime_format=True,index_col='date')    #设置时间戳索引\n",
      "C:\\Users\\12204\\AppData\\Local\\Temp\\ipykernel_19704\\1024496477.py:4: FutureWarning: The argument 'infer_datetime_format' is deprecated and will be removed in a future version. A strict version of it is now the default, see https://pandas.pydata.org/pdeps/0004-consistent-to-datetime-parsing.html. You can safely remove this argument.\n",
      "  dataset_test=pd.read_csv(\"test_set.csv\",infer_datetime_format=True,index_col='date')\n",
      "C:\\Users\\12204\\AppData\\Local\\Temp\\ipykernel_19704\\1024496477.py:5: FutureWarning: The argument 'infer_datetime_format' is deprecated and will be removed in a future version. A strict version of it is now the default, see https://pandas.pydata.org/pdeps/0004-consistent-to-datetime-parsing.html. You can safely remove this argument.\n",
      "  dataset_val = pd.read_csv(\"validation_set.csv\",infer_datetime_format=True,index_col='date')\n"
     ]
    }
   ],
   "source": [
    "#载入数据\n",
    "#读取数据集\n",
    "dataset_train=pd.read_csv(\"train_set.csv\",infer_datetime_format=True,index_col='date')    #设置时间戳索引\n",
    "dataset_test=pd.read_csv(\"test_set.csv\",infer_datetime_format=True,index_col='date')\n",
    "dataset_val = pd.read_csv(\"validation_set.csv\",infer_datetime_format=True,index_col='date')\n",
    "\n",
    "train_v = dataset_train.values\n",
    "test_v = dataset_test.values\n",
    "val_v = dataset_test.values\n",
    "\n"
   ]
  },
  {
   "cell_type": "code",
   "execution_count": 302,
   "metadata": {},
   "outputs": [],
   "source": [
    "#  归一化\n",
    "scaler = MinMaxScaler(feature_range=(0, 1))\n",
    "scaled_train = scaler.fit_transform(dataset_train)\n",
    "scaled_test = scaler.fit_transform(dataset_test)\n",
    "scaled_val = scaler.fit_transform(dataset_val)\n",
    "\n"
   ]
  },
  {
   "cell_type": "code",
   "execution_count": 303,
   "metadata": {},
   "outputs": [],
   "source": [
    "# 制作滑动窗口数据集\n",
    "# 将数据集使用滑动窗口方法制作成监督学习\n",
    "def series_to_supervised(df,n_in=96, n_out=96):   #df.shape = (样本数,变量数)\n",
    "    n_vars = df.shape[1]                          #获取变量数\n",
    "    df=DataFrame(df)\n",
    "    shift_data, timewindow = [], []                  \n",
    "    var_names = ['HUFL','HULL','MUFL','MULL','LUFL','LULL','OT']\n",
    "    for i in range(n_in, 0, -1):       # 向后shift ————>  得到[-96,-95..-1]\n",
    "        shift_data.append(df.shift(i))\n",
    "        timewindow += [('%s(t-%d)' % (j, i)) for j in var_names]\n",
    "\n",
    "    for i in range(0, n_out):         # 向前shift ————>  得到[0,1,...,96]\n",
    "        shift_data.append(df.shift(-i))\n",
    "        timewindow += [('%s(t+%d)' % (j, i)) for j in var_names]\n",
    "\n",
    "    agg = concat(shift_data, axis=1)\n",
    "    agg.columns = timewindow\n",
    "    return agg\n"
   ]
  },
  {
   "cell_type": "code",
   "execution_count": 304,
   "metadata": {},
   "outputs": [],
   "source": [
    "pd.set_option('display.max_columns', None)\n",
    "sliding_window_raw_train = series_to_supervised(scaled_train,96,96)[96:-96]      # 获得原始的滑动窗口数据集，切去nan部分\n",
    "sliding_window_raw_test = series_to_supervised(scaled_test,96,96)[96:-96]      # 获得原始的滑动窗口数据集，切去nan部分\n",
    "sliding_window_raw_val = series_to_supervised(scaled_val,96,96)[96:-96]      # 获得原始的滑动窗口数据集，切去nan部分\n"
   ]
  },
  {
   "cell_type": "code",
   "execution_count": 305,
   "metadata": {},
   "outputs": [
    {
     "data": {
      "text/plain": [
       "(8448, 1344)"
      ]
     },
     "execution_count": 305,
     "metadata": {},
     "output_type": "execute_result"
    }
   ],
   "source": [
    "sliding_window_raw_train.shape"
   ]
  },
  {
   "cell_type": "code",
   "execution_count": 306,
   "metadata": {},
   "outputs": [
    {
     "name": "stdout",
     "output_type": "stream",
     "text": [
      "(8448, 96, 7) (8448, 96, 7) (2784, 96, 7) (2784, 96, 7)\n"
     ]
    }
   ],
   "source": [
    "# 切割数据集，分成8:2;  val 在后续fit时切分\n",
    "\n",
    "train_X, train_y = sliding_window_raw_train.values[:,:96*7], sliding_window_raw_train.values[:,96*7:]      # 划分好x与y； 其中 x 是前96个窗口，y是后96个窗口\n",
    "\n",
    "test_X, test_y = sliding_window_raw_test.values[:,:96*7], sliding_window_raw_test.values[:, 96*7:]  \n",
    "val_X,val_y = sliding_window_raw_val.values[:,:96*7],sliding_window_raw_val.values[:,96*7:]\n",
    "\n",
    "train_X = train_X.reshape(train_X.shape[0],96,7)\n",
    "train_y = train_y.reshape(train_y.shape[0],96,7)             # reshape成 :  (样本数,步长,变量数量)\n",
    "test_X = test_X.reshape(test_X.shape[0],96,7)\n",
    "test_y = test_y.reshape(test_y.shape[0],96,7)\n",
    "val_X = val_X.reshape(val_X.shape[0],96,7)\n",
    "val_y = val_y.reshape(val_y.shape[0],96,7)\n",
    "print(train_X.shape,train_y.shape,test_X.shape,test_y.shape)\n"
   ]
  },
  {
   "cell_type": "markdown",
   "metadata": {},
   "source": [
    "### 至此， 数据集处理完成\n",
    "\n",
    "### 开始构建模型,步骤如下:\n",
    "1.  建立SE组，包含7个lstm,用于处理每一个变量\n",
    "2.  训练SE组，保存模型\n",
    "3.  建立一维卷积+LSTM模型组，联合组\n",
    "4.  训练联合组，保存模型\n",
    "5.  加载SE组和联合组，定义聚合方法，得到最终的"
   ]
  },
  {
   "cell_type": "code",
   "execution_count": 307,
   "metadata": {},
   "outputs": [],
   "source": [
    "## 创建单变量LSTM\n",
    "def create_single_var_LSTM(n_units,loss,optimizer,n_in=96,n_output=96):\n",
    "    model = Sequential()\n",
    "    model.add(LSTM(n_units, activation='relu', return_sequences=True, input_shape=(n_in, 1)))\n",
    "    model.add(TimeDistributed(Dense(1)))\n",
    "    model.compile(loss=loss, optimizer=optimizer) \n",
    "    return model    \n"
   ]
  },
  {
   "cell_type": "code",
   "execution_count": 345,
   "metadata": {},
   "outputs": [],
   "source": [
    "## 分别对每一个变量进行训练\n",
    "se_model_list = [create_single_var_LSTM(100,loss='mse',optimizer='adam',n_in=96,n_output=96) for i in range(7)]"
   ]
  },
  {
   "cell_type": "code",
   "execution_count": 309,
   "metadata": {},
   "outputs": [
    {
     "name": "stdout",
     "output_type": "stream",
     "text": [
      "-----------training var0-----\n",
      "Epoch 1/10\n",
      "2112/2112 [==============================] - 28s 13ms/step - loss: 0.0199 - val_loss: 0.0164\n",
      "Epoch 2/10\n",
      "2112/2112 [==============================] - 41s 19ms/step - loss: 0.0079 - val_loss: 0.0150\n",
      "Epoch 3/10\n",
      "2112/2112 [==============================] - 40s 19ms/step - loss: 0.0071 - val_loss: 0.0146\n",
      "Epoch 4/10\n",
      "2112/2112 [==============================] - 42s 20ms/step - loss: 0.0069 - val_loss: 0.0150\n",
      "Epoch 5/10\n",
      "2112/2112 [==============================] - 40s 19ms/step - loss: 0.0069 - val_loss: 0.0147\n",
      "Epoch 6/10\n",
      "2112/2112 [==============================] - 40s 19ms/step - loss: 0.0070 - val_loss: 0.0143\n",
      "Epoch 7/10\n",
      "2112/2112 [==============================] - 39s 18ms/step - loss: 0.0068 - val_loss: 0.0146\n",
      "Epoch 8/10\n",
      "2112/2112 [==============================] - 39s 19ms/step - loss: 0.0066 - val_loss: 0.0138\n",
      "Epoch 9/10\n",
      "2112/2112 [==============================] - 41s 20ms/step - loss: 0.0068 - val_loss: 0.0141\n",
      "Epoch 10/10\n",
      "2112/2112 [==============================] - 40s 19ms/step - loss: 0.0068 - val_loss: 0.0141\n",
      "-----------training var1-----\n",
      "Epoch 1/10\n",
      "2112/2112 [==============================] - 36s 16ms/step - loss: 0.0113 - val_loss: 0.0190\n",
      "Epoch 2/10\n",
      "2112/2112 [==============================] - 24s 11ms/step - loss: 0.0085 - val_loss: 0.0192\n",
      "Epoch 3/10\n",
      "2112/2112 [==============================] - 24s 11ms/step - loss: 0.0079 - val_loss: 0.0197\n",
      "Epoch 4/10\n",
      "2112/2112 [==============================] - 24s 12ms/step - loss: 0.0077 - val_loss: 0.0186\n",
      "Epoch 5/10\n",
      "2112/2112 [==============================] - 25s 12ms/step - loss: 0.0074 - val_loss: 0.0191\n",
      "Epoch 6/10\n",
      "2112/2112 [==============================] - 24s 11ms/step - loss: 0.0075 - val_loss: 0.0197\n",
      "Epoch 7/10\n",
      "2112/2112 [==============================] - 24s 11ms/step - loss: 0.0077 - val_loss: 0.0198\n",
      "Epoch 8/10\n",
      "2112/2112 [==============================] - 25s 12ms/step - loss: 0.0078 - val_loss: 0.0192\n",
      "Epoch 9/10\n",
      "2112/2112 [==============================] - 24s 11ms/step - loss: 0.0078 - val_loss: 0.0211\n",
      "Epoch 10/10\n",
      "2112/2112 [==============================] - 25s 12ms/step - loss: 0.0077 - val_loss: 0.0199\n",
      "-----------training var2-----\n",
      "Epoch 1/10\n",
      "2112/2112 [==============================] - 24s 11ms/step - loss: 0.0145 - val_loss: 0.0174\n",
      "Epoch 2/10\n",
      "2112/2112 [==============================] - 23s 11ms/step - loss: 0.0086 - val_loss: 0.0161\n",
      "Epoch 3/10\n",
      "2112/2112 [==============================] - 23s 11ms/step - loss: 0.0078 - val_loss: 0.0168\n",
      "Epoch 4/10\n",
      "2112/2112 [==============================] - 23s 11ms/step - loss: 0.0078 - val_loss: 0.0151\n",
      "Epoch 5/10\n",
      "2112/2112 [==============================] - 23s 11ms/step - loss: 0.0076 - val_loss: 0.0146\n",
      "Epoch 6/10\n",
      "2112/2112 [==============================] - 22s 11ms/step - loss: 0.0073 - val_loss: 0.0146\n",
      "Epoch 7/10\n",
      "2112/2112 [==============================] - 23s 11ms/step - loss: 0.0072 - val_loss: 0.0145\n",
      "Epoch 8/10\n",
      "2112/2112 [==============================] - 22s 11ms/step - loss: 0.0072 - val_loss: 0.0153\n",
      "Epoch 9/10\n",
      "2112/2112 [==============================] - 28s 13ms/step - loss: 0.0072 - val_loss: 235823081455616.0000\n",
      "Epoch 10/10\n",
      "2112/2112 [==============================] - 29s 14ms/step - loss: 0.0073 - val_loss: 0.0158\n",
      "-----------training var3-----\n",
      "Epoch 1/10\n",
      "2112/2112 [==============================] - 28s 13ms/step - loss: 0.0125 - val_loss: 0.0252\n",
      "Epoch 2/10\n",
      "2112/2112 [==============================] - 27s 13ms/step - loss: 0.0066 - val_loss: 0.0246\n",
      "Epoch 3/10\n",
      "2112/2112 [==============================] - 28s 13ms/step - loss: 0.0065 - val_loss: 0.0249\n",
      "Epoch 4/10\n",
      "2112/2112 [==============================] - 22s 11ms/step - loss: 0.0065 - val_loss: 0.0247\n",
      "Epoch 5/10\n",
      "2112/2112 [==============================] - 23s 11ms/step - loss: 0.0063 - val_loss: 0.0225\n",
      "Epoch 6/10\n",
      "2112/2112 [==============================] - 22s 11ms/step - loss: 0.0064 - val_loss: 0.0234\n",
      "Epoch 7/10\n",
      "2112/2112 [==============================] - 22s 11ms/step - loss: 0.0061 - val_loss: 0.0247\n",
      "Epoch 8/10\n",
      "2112/2112 [==============================] - 23s 11ms/step - loss: 0.0062 - val_loss: 0.0250\n",
      "Epoch 9/10\n",
      "2112/2112 [==============================] - 23s 11ms/step - loss: 0.0063 - val_loss: 0.0262\n",
      "Epoch 10/10\n",
      "2112/2112 [==============================] - 22s 11ms/step - loss: 0.0062 - val_loss: 0.0245\n",
      "-----------training var4-----\n",
      "Epoch 1/10\n",
      "2112/2112 [==============================] - 24s 11ms/step - loss: 0.0131 - val_loss: 0.0417\n",
      "Epoch 2/10\n",
      "2112/2112 [==============================] - 24s 11ms/step - loss: 0.0084 - val_loss: 0.0408\n",
      "Epoch 3/10\n",
      "2112/2112 [==============================] - 22s 11ms/step - loss: 0.0083 - val_loss: 0.0409\n",
      "Epoch 4/10\n",
      "2112/2112 [==============================] - 23s 11ms/step - loss: 0.0083 - val_loss: 0.0415\n",
      "Epoch 5/10\n",
      "2112/2112 [==============================] - 24s 11ms/step - loss: 0.0081 - val_loss: 0.0436\n",
      "Epoch 6/10\n",
      "2112/2112 [==============================] - 27s 13ms/step - loss: 0.0081 - val_loss: 0.0415\n",
      "Epoch 7/10\n",
      "2112/2112 [==============================] - 28s 13ms/step - loss: 0.0083 - val_loss: 0.0473\n",
      "Epoch 8/10\n",
      "2112/2112 [==============================] - 27s 13ms/step - loss: 0.0081 - val_loss: 0.0474\n",
      "Epoch 9/10\n",
      "2112/2112 [==============================] - 28s 13ms/step - loss: 0.0082 - val_loss: 0.0502\n",
      "Epoch 10/10\n",
      "2112/2112 [==============================] - 29s 14ms/step - loss: 0.0082 - val_loss: 0.0548\n",
      "-----------training var5-----\n",
      "Epoch 1/10\n",
      "2112/2112 [==============================] - 30s 14ms/step - loss: 0.0111 - val_loss: 0.1859\n",
      "Epoch 2/10\n",
      "2112/2112 [==============================] - 27s 13ms/step - loss: 0.0092 - val_loss: 0.1522\n",
      "Epoch 3/10\n",
      "2112/2112 [==============================] - 28s 13ms/step - loss: 0.0095 - val_loss: 0.1433\n",
      "Epoch 4/10\n",
      "2112/2112 [==============================] - 27s 13ms/step - loss: 0.0102 - val_loss: 0.1321\n",
      "Epoch 5/10\n",
      "2112/2112 [==============================] - 28s 13ms/step - loss: 0.0098 - val_loss: 0.1333\n",
      "Epoch 6/10\n",
      "2112/2112 [==============================] - 29s 14ms/step - loss: 0.0086 - val_loss: 0.2117\n",
      "Epoch 7/10\n",
      "2112/2112 [==============================] - 28s 13ms/step - loss: 0.0097 - val_loss: 0.1355\n",
      "Epoch 8/10\n",
      "2112/2112 [==============================] - 26s 12ms/step - loss: 0.0096 - val_loss: 0.1894\n",
      "Epoch 9/10\n",
      "2112/2112 [==============================] - 27s 13ms/step - loss: 0.0114 - val_loss: 0.1150\n",
      "Epoch 10/10\n",
      "2112/2112 [==============================] - 26s 12ms/step - loss: 0.0096 - val_loss: 0.1311\n",
      "-----------training var6-----\n",
      "Epoch 1/10\n",
      "2112/2112 [==============================] - 27s 12ms/step - loss: 0.0096 - val_loss: 0.0343\n",
      "Epoch 2/10\n",
      "2112/2112 [==============================] - 25s 12ms/step - loss: 0.0051 - val_loss: 0.0419\n",
      "Epoch 3/10\n",
      "2112/2112 [==============================] - 25s 12ms/step - loss: 0.0049 - val_loss: 0.0461\n",
      "Epoch 4/10\n",
      "2112/2112 [==============================] - 28s 13ms/step - loss: 0.0049 - val_loss: 0.0509\n",
      "Epoch 5/10\n",
      "2112/2112 [==============================] - 41s 19ms/step - loss: 0.0047 - val_loss: 0.0497\n",
      "Epoch 6/10\n",
      "2112/2112 [==============================] - 40s 19ms/step - loss: 0.0050 - val_loss: 0.0438\n",
      "Epoch 7/10\n",
      "2112/2112 [==============================] - 36s 17ms/step - loss: 0.0051 - val_loss: 0.0453\n",
      "Epoch 8/10\n",
      "2112/2112 [==============================] - 25s 12ms/step - loss: 0.0049 - val_loss: 0.0492\n",
      "Epoch 9/10\n",
      "2112/2112 [==============================] - 25s 12ms/step - loss: 0.0050 - val_loss: 0.0483\n",
      "Epoch 10/10\n",
      "2112/2112 [==============================] - 25s 12ms/step - loss: 0.0057 - val_loss: 0.0452\n"
     ]
    }
   ],
   "source": [
    "# 开始使用单个变量，训练每一个LSTM\n",
    "# \n",
    "n_epochs = 10\n",
    "n_batch_size=4\n",
    "for i in range(7):\n",
    "    single_var_train_X = train_X[:,:,i:i+1]\n",
    "    single_var_train_y = train_y[:,:,i:i+1] \n",
    "    vval_X = val_X[:,:,i:i+1]\n",
    "    vval_y = val_y[:,:,i:i+1] \n",
    "    print(\"-----------training var\"+str(i)+\"-----\")\n",
    "    se_model_list[i].fit(single_var_train_X, single_var_train_y, epochs=n_epochs, batch_size=n_batch_size,validation_data=(vval_X,vval_y) , verbose=1, shuffle=False)\n",
    "    "
   ]
  },
  {
   "cell_type": "code",
   "execution_count": 346,
   "metadata": {},
   "outputs": [],
   "source": [
    "for i in range(7):\n",
    "    se_model_list[i].load_weights('se_4batch_10epch_100Units_mae'+str(i)+'.h5')"
   ]
  },
  {
   "cell_type": "code",
   "execution_count": 368,
   "metadata": {},
   "outputs": [
    {
     "name": "stdout",
     "output_type": "stream",
     "text": [
      "3/3 [==============================] - 0s 1ms/step\n"
     ]
    },
    {
     "data": {
      "image/png": "[encoded data removed]",
      "text/plain": [
       "<Figure size 640x480 with 1 Axes>"
      ]
     },
     "metadata": {},
     "output_type": "display_data"
    },
    {
     "data": {
      "text/plain": [
       "[0.2878003386062832,\n",
       " 0.29722553161320964,\n",
       " 0.235895391436665,\n",
       " 0.22169122420722384,\n",
       " 0.273596171376842,\n",
       " 0.4575865998189469,\n",
       " 0.5471923585786259,\n",
       " 0.5189167637329044,\n",
       " 0.5047125806785213,\n",
       " 0.509491554901036,\n",
       " 0.5141377895103898,\n",
       " 0.43873621380509387,\n",
       " 0.2783751455993566,\n",
       " 0.36798087270915175,\n",
       " 0.4245320624005947,\n",
       " 0.217044997510341,\n",
       " 0.3491304866952988,\n",
       " 0.33014734524334294,\n",
       " 0.2783751455993566,\n",
       " 0.3397052936883723,\n",
       " 0.36798087270915175,\n",
       " 0.235895391436665,\n",
       " 0.2593920041474008,\n",
       " 0.24054161022107684,\n",
       " 0.235895391436665,\n",
       " 0.24054161022107684,\n",
       " 0.23111641721415033,\n",
       " 0.16514004836260515,\n",
       " 0.2641709783699155,\n",
       " 0.4528076255964323,\n",
       " 0.46223283442830065,\n",
       " 0.44816142263696235,\n",
       " 0.47179078287333,\n",
       " 0.44816142263696235,\n",
       " 0.4009027021642271,\n",
       " 0.3962564675548732,\n",
       " 0.4293110366231093,\n",
       " 0.4056816763867417,\n",
       " 0.4293110366231093,\n",
       " 0.2453205844435915,\n",
       " 0.2783751455993566,\n",
       " 0.2593920041474008,\n",
       " 0.217044997510341,\n",
       " 0.2593920041474008,\n",
       " 0.35855567970222524,\n",
       " 0.22169122420722384,\n",
       " 0.18399044031081138,\n",
       " 0.1745652433476494,\n",
       " 0.21226602328782634,\n",
       " 0.20761980450341452,\n",
       " 0.20761980450341452,\n",
       " 0.056551173866500964,\n",
       " 0.20761980450341452,\n",
       " 0.26894995259243015,\n",
       " 0.38683127454794675,\n",
       " 0.43873621380509387,\n",
       " 0.47643701748268374,\n",
       " 0.5000663777190515,\n",
       " 0.490641168887183,\n",
       " 0.4575865998189469,\n",
       " 0.3632019143115791,\n",
       " 0.43873621380509387,\n",
       " 0.5047125806785213,\n",
       " 0.46223283442830065,\n",
       " 0.41988582779124084,\n",
       " 0.490641168887183,\n",
       " 0.23111641721415033,\n",
       " 0.38683127454794675,\n",
       " 0.4575865998189469,\n",
       " 0.37740608154102023,\n",
       " 0.3349263194658576,\n",
       " 0.4293110366231093,\n",
       " 0.3349263194658576,\n",
       " 0.24054161022107684,\n",
       " 0.235895391436665,\n",
       " 0.26894995259243015,\n",
       " 0.235895391436665,\n",
       " 0.34435151247278406,\n",
       " 0.3018717662225634,\n",
       " 0.35377670547971063,\n",
       " 0.37740608154102023,\n",
       " 0.35377670547971063,\n",
       " 0.37740608154102023,\n",
       " 0.3066507404450781,\n",
       " 0.26894995259243015,\n",
       " 0.28302136438376846,\n",
       " 0.3491304866952988,\n",
       " 0.36798087270915175,\n",
       " 0.36798087270915175,\n",
       " 0.38683127454794675,\n",
       " 0.3962564675548732,\n",
       " 0.4009027021642271,\n",
       " 0.35855567970222524,\n",
       " 0.3255011264589311,\n",
       " 0.31129695922948997,\n",
       " 0.3207221522364164,\n",
       " 0.28302136438376846,\n",
       " 0.273596171376842,\n",
       " 0.2593920041474008,\n",
       " 0.11323509723675151,\n",
       " 0.2878003386062832,\n",
       " 0.44816142263696235,\n",
       " 0.3914774933323586,\n",
       " 0.43873621380509387,\n",
       " 0.4245320624005947,\n",
       " 0.46223283442830065,\n",
       " 0.528341940914889,\n",
       " 0.43395723958257926,\n",
       " 0.3018717662225634,\n",
       " 0.3914774933323586,\n",
       " 0.41046061895937247,\n",
       " 0.3018717662225634,\n",
       " 0.2783751455993566,\n",
       " 0.38205230032543214,\n",
       " 0.2783751455993566,\n",
       " 0.3207221522364164,\n",
       " 0.33014734524334294,\n",
       " 0.38205230032543214,\n",
       " 0.38205230032543214,\n",
       " 0.3255011264589311,\n",
       " 0.28302136438376846,\n",
       " 0.36798087270915175,\n",
       " 0.3255011264589311,\n",
       " 0.22169122420722384,\n",
       " 0.1745652433476494,\n",
       " 0.26894995259243015,\n",
       " 0.26894995259243015,\n",
       " 0.3066507404450781,\n",
       " 0.3018717662225634,\n",
       " 0.3018717662225634,\n",
       " 0.29722553161320964,\n",
       " 0.2593920041474008,\n",
       " 0.1745652433476494,\n",
       " 0.23111641721415033,\n",
       " 0.2783751455993566,\n",
       " 0.22169122420722384,\n",
       " 0.24054161022107684,\n",
       " 0.235895391436665,\n",
       " 0.21226602328782634,\n",
       " 0.37262710731850557,\n",
       " 0.29722553161320964,\n",
       " 0.292446557390695,\n",
       " 0.21226602328782634,\n",
       " 0.26894995259243015,\n",
       " 0.2453205844435915,\n",
       " 0.21226602328782634,\n",
       " 0.18399044031081138,\n",
       " 0.235895391436665,\n",
       " 0.292446557390695,\n",
       " 0.3632019143115791,\n",
       " 0.2783751455993566,\n",
       " 0.3491304866952988,\n",
       " 0.2453205844435915,\n",
       " 0.36798087270915175,\n",
       " 0.34435151247278406,\n",
       " 0.3066507404450781,\n",
       " 0.2264701984297385,\n",
       " 0.3066507404450781,\n",
       " 0.3491304866952988,\n",
       " 0.2499668111404743,\n",
       " 0.292446557390695,\n",
       " 0.2593920041474008,\n",
       " 0.3160759334520046,\n",
       " 0.35855567970222524,\n",
       " 0.3066507404450781,\n",
       " 0.2641709783699155,\n",
       " 0.28302136438376846,\n",
       " 0.28302136438376846,\n",
       " 0.31129695922948997,\n",
       " 0.29722553161320964,\n",
       " 0.29722553161320964,\n",
       " 0.1697862730813702,\n",
       " 0.26894995259243015,\n",
       " 0.254745785362989,\n",
       " 0.26894995259243015,\n",
       " 0.3066507404450781,\n",
       " 0.2641709783699155,\n",
       " 0.217044997510341,\n",
       " 0.1697862730813702,\n",
       " 0.23111641721415033,\n",
       " 0.1886366630514587,\n",
       " 0.2453205844435915,\n",
       " 0.2499668111404743,\n",
       " 0.31129695922948997,\n",
       " 0.3066507404450781,\n",
       " 0.37740608154102023,\n",
       " 0.20284083028089986,\n",
       " 0.2499668111404743,\n",
       " 0.2783751455993566,\n",
       " 0.273596171376842,\n",
       " 0.20284083028089986,\n",
       " 0.20284083028089986]"
      ]
     },
     "execution_count": 368,
     "metadata": {},
     "output_type": "execute_result"
    }
   ],
   "source": [
    "# 分别测试每一个变量的预测情况\n",
    "idx = 2226\n",
    "var_idx=3\n",
    "vvv = se_model_list[var_idx].predict(test_X[idx,:,var_idx:var_idx+1])\n",
    "vvv=vvv.reshape(96,1)\n",
    "vvv.shape\n",
    "# pyplot.figure()\n",
    "test_y=test_y.reshape(test_y.shape[0],96,7)\n",
    "# test_y.shape\n",
    "combined_line = list(test_y[idx-96][:, var_idx])+list(test_y[idx][:, var_idx])\n",
    "pyplot.plot([[None] for i in range(96)]+list(vvv),label='Predition')        #2016   3214\n",
    "pyplot.plot(combined_line,label='GroundTruth')\n",
    "pyplot.legend()\n",
    "pyplot.show()\n",
    "list(test_y[idx-96][:, var_idx])+list(test_y[idx][:, var_idx])\n"
   ]
  },
  {
   "cell_type": "code",
   "execution_count": 311,
   "metadata": {},
   "outputs": [],
   "source": [
    "# se_model_list\n",
    "# i=0\n",
    "# for auto in se_model_list:\n",
    "#     auto.save('se_4batch_10epch_100Units_mae'+str(i)+'.h5')\n",
    "#     i+=1"
   ]
  },
  {
   "cell_type": "markdown",
   "metadata": {},
   "source": [
    "### 至此，已经获得了对单个变量的LSTM模型组,se_model\n",
    "#### 对变量5，6的效果很差，考虑删除\n",
    "\n"
   ]
  },
  {
   "cell_type": "code",
   "execution_count": 312,
   "metadata": {},
   "outputs": [],
   "source": [
    "## 创造最后相乘层\n",
    "class Multiply(Layer):\n",
    "    RND_UNI = random_uniform(minval=0.05, maxval=1.05)\n",
    "\n",
    "    def __init__(self, unit, **kwargs):\n",
    "        super(Multiply, self).__init__(**kwargs)\n",
    "        self.build(unit)\n",
    "\n",
    "    def build(self, unit, input_shape=None):\n",
    "        self.prop_weights = self.add_weight(\n",
    "            name='proportion-weights',\n",
    "            shape=(unit,),\n",
    "            initializer=self.RND_UNI,\n",
    "            trainable=True,\n",
    "            constraint=non_neg()\n",
    "        )\n",
    "        super(Multiply, self).build(input_shape)\n",
    "\n",
    "    def call(self, input):\n",
    "        return tf.multiply(\n",
    "         name='ele-wise-product',\n",
    "         x=input,\n",
    "         y=self.prop_weights\n",
    "        )\n"
   ]
  },
  {
   "cell_type": "code",
   "execution_count": 313,
   "metadata": {},
   "outputs": [],
   "source": [
    "## 创建CNN+LSTM, 联合 (总联合+子联合？)  HUFL"
   ]
  },
  {
   "cell_type": "code",
   "execution_count": 369,
   "metadata": {},
   "outputs": [
    {
     "data": {
      "text/plain": [
       "[<keras.src.engine.sequential.Sequential at 0x1eed3eef9d0>,\n",
       " <keras.src.engine.sequential.Sequential at 0x1eeff3a4bd0>,\n",
       " <keras.src.engine.sequential.Sequential at 0x1eeab3b0650>,\n",
       " <keras.src.engine.sequential.Sequential at 0x1eed2800b10>,\n",
       " <keras.src.engine.sequential.Sequential at 0x1eeff200ad0>,\n",
       " <keras.src.engine.sequential.Sequential at 0x1eeff329490>,\n",
       " <keras.src.engine.sequential.Sequential at 0x1eeff2eacd0>]"
      ]
     },
     "execution_count": 369,
     "metadata": {},
     "output_type": "execute_result"
    }
   ],
   "source": [
    "se_model_list"
   ]
  },
  {
   "cell_type": "code",
   "execution_count": 370,
   "metadata": {},
   "outputs": [],
   "source": [
    "for i in range(7):\n",
    "    se_model_list[i].load_weights('se_4batch_10epch_100Units_mae'+str(i)+'.h5')"
   ]
  },
  {
   "cell_type": "code",
   "execution_count": 316,
   "metadata": {},
   "outputs": [
    {
     "data": {
      "text/plain": [
       "[<keras.src.engine.sequential.Sequential at 0x1ee5ed41bd0>,\n",
       " <keras.src.engine.sequential.Sequential at 0x1ee740ada50>,\n",
       " <keras.src.engine.sequential.Sequential at 0x1ee27ae6050>,\n",
       " <keras.src.engine.sequential.Sequential at 0x1eed69c8590>,\n",
       " <keras.src.engine.sequential.Sequential at 0x1eeb6deccd0>,\n",
       " <keras.src.engine.sequential.Sequential at 0x1ee821f6210>,\n",
       " <keras.src.engine.sequential.Sequential at 0x1eed6aa0b50>]"
      ]
     },
     "execution_count": 316,
     "metadata": {},
     "output_type": "execute_result"
    }
   ],
   "source": [
    "se_model_list"
   ]
  },
  {
   "cell_type": "code",
   "execution_count": 386,
   "metadata": {},
   "outputs": [],
   "source": [
    "# 需要传入体现训练好的se_models\n",
    "def CREATE_SEPNET(se_models,n_var=7,loss='mae',n_in=96):\n",
    "        x = Input(shape=(n_in, n_var)) \n",
    "        se_outputs = [\n",
    "            se_models[idx](\n",
    "                inputs=Lambda(\n",
    "                    lambda k: k[:, :, idx]       \n",
    "                )(x)\n",
    "            )\n",
    "            for idx in range(n_var)\n",
    "        ]\n",
    "        se_pred = concatenate(se_outputs)\n",
    "    \n",
    "        c1 = Conv1D(\n",
    "            filters=1, kernel_size=1, name='Conv1D-1'\n",
    "        )(x)\n",
    "        c3 = Conv1D(\n",
    "            filters=1, kernel_size=3, name='Conv1D-3'\n",
    "        )(x)\n",
    "        c5 = Conv1D(\n",
    "            filters=1, kernel_size=5, name='Conv1D-5'\n",
    "        )(x)\n",
    "\n",
    "        r1 = LSTM(\n",
    "            units=16, name='LSTM-1'\n",
    "        )(c1)\n",
    "        r3 = LSTM(\n",
    "            units=16, name='LSTM-3'\n",
    "        )(c3)\n",
    "        r5 = LSTM(\n",
    "            units=16, name='LSTM-5'\n",
    "        )(c5)\n",
    "        r135 = add([r1, r3, r5])\n",
    "        res_pred = Dense(\n",
    "            units=n_var,\n",
    "            kernel_initializer='uniform', kernel_constraint=unit_norm()\n",
    "        )(r135)\n",
    "\n",
    "        # make final\n",
    "        se = Multiply(\n",
    "            unit=n_var, name='se-weights'\n",
    "        )(se_pred)\n",
    "        res = Multiply(\n",
    "            unit=n_var, name='res-weights'\n",
    "        )(res_pred)\n",
    "        y_pred = Add()([se, res])\n",
    "\n",
    "        model = Model(inputs=x, outputs=y_pred)\n",
    "        model.compile('Adam', loss=loss)\n",
    "        return model\n",
    "\n",
    "\n"
   ]
  },
  {
   "cell_type": "code",
   "execution_count": 409,
   "metadata": {},
   "outputs": [
    {
     "name": "stdout",
     "output_type": "stream",
     "text": [
      "(None, 96, 7)\n"
     ]
    },
    {
     "name": "stderr",
     "output_type": "stream",
     "text": [
      "C:\\Users\\12204\\AppData\\Local\\Packages\\PythonSoftwareFoundation.Python.3.11_qbz5n2kfra8p0\\LocalCache\\local-packages\\Python311\\site-packages\\keras\\src\\initializers\\initializers.py:120: UserWarning: The initializer RandomUniform is unseeded and being called multiple times, which will return identical values each time (even if the initializer is unseeded). Please update your code to provide a seed to the initializer, or avoid using the same initializer instance more than once.\n",
      "  warnings.warn(\n"
     ]
    },
    {
     "name": "stdout",
     "output_type": "stream",
     "text": [
      "Epoch 1/15\n",
      "2112/2112 [==============================] - 155s 70ms/step - loss: 45095858176.0000 - val_loss: 6779527.5000\n",
      "Epoch 2/15\n",
      "2112/2112 [==============================] - 140s 66ms/step - loss: nan - val_loss: nan\n",
      "Epoch 3/15\n",
      "2112/2112 [==============================] - 145s 69ms/step - loss: nan - val_loss: nan\n",
      "Epoch 4/15\n",
      "2112/2112 [==============================] - 153s 72ms/step - loss: nan - val_loss: nan\n",
      "Epoch 5/15\n",
      "2112/2112 [==============================] - 141s 67ms/step - loss: nan - val_loss: nan\n",
      "Epoch 6/15\n",
      " 109/2112 [>.............................] - ETA: 2:16 - loss: nan"
     ]
    },
    {
     "ename": "KeyboardInterrupt",
     "evalue": "",
     "output_type": "error",
     "traceback": [
      "\u001b[1;31m---------------------------------------------------------------------------\u001b[0m",
      "\u001b[1;31mKeyboardInterrupt\u001b[0m                         Traceback (most recent call last)",
      "Cell \u001b[1;32mIn[409], line 2\u001b[0m\n\u001b[0;32m      1\u001b[0m sepmd \u001b[38;5;241m=\u001b[39m CREATE_SEPNET(se_model_list,loss\u001b[38;5;241m=\u001b[39m\u001b[38;5;124m'\u001b[39m\u001b[38;5;124mmse\u001b[39m\u001b[38;5;124m'\u001b[39m)\n\u001b[1;32m----> 2\u001b[0m \u001b[43msepmd\u001b[49m\u001b[38;5;241;43m.\u001b[39;49m\u001b[43mfit\u001b[49m\u001b[43m(\u001b[49m\u001b[43mtrain_X\u001b[49m\u001b[43m,\u001b[49m\u001b[43mtrain_y\u001b[49m\u001b[43m,\u001b[49m\u001b[43mbatch_size\u001b[49m\u001b[38;5;241;43m=\u001b[39;49m\u001b[38;5;241;43m4\u001b[39;49m\u001b[43m,\u001b[49m\u001b[43mepochs\u001b[49m\u001b[38;5;241;43m=\u001b[39;49m\u001b[38;5;241;43m15\u001b[39;49m\u001b[43m,\u001b[49m\u001b[43mverbose\u001b[49m\u001b[38;5;241;43m=\u001b[39;49m\u001b[38;5;241;43m1\u001b[39;49m\u001b[43m,\u001b[49m\u001b[43mvalidation_data\u001b[49m\u001b[38;5;241;43m=\u001b[39;49m\u001b[43m(\u001b[49m\u001b[43mval_X\u001b[49m\u001b[43m,\u001b[49m\u001b[43mval_y\u001b[49m\u001b[43m)\u001b[49m\u001b[43m)\u001b[49m\n",
      "File \u001b[1;32m~\\AppData\\Local\\Packages\\PythonSoftwareFoundation.Python.3.11_qbz5n2kfra8p0\\LocalCache\\local-packages\\Python311\\site-packages\\keras\\src\\utils\\traceback_utils.py:65\u001b[0m, in \u001b[0;36mfilter_traceback.<locals>.error_handler\u001b[1;34m(*args, **kwargs)\u001b[0m\n\u001b[0;32m     63\u001b[0m filtered_tb \u001b[38;5;241m=\u001b[39m \u001b[38;5;28;01mNone\u001b[39;00m\n\u001b[0;32m     64\u001b[0m \u001b[38;5;28;01mtry\u001b[39;00m:\n\u001b[1;32m---> 65\u001b[0m     \u001b[38;5;28;01mreturn\u001b[39;00m \u001b[43mfn\u001b[49m\u001b[43m(\u001b[49m\u001b[38;5;241;43m*\u001b[39;49m\u001b[43margs\u001b[49m\u001b[43m,\u001b[49m\u001b[43m \u001b[49m\u001b[38;5;241;43m*\u001b[39;49m\u001b[38;5;241;43m*\u001b[39;49m\u001b[43mkwargs\u001b[49m\u001b[43m)\u001b[49m\n\u001b[0;32m     66\u001b[0m \u001b[38;5;28;01mexcept\u001b[39;00m \u001b[38;5;167;01mException\u001b[39;00m \u001b[38;5;28;01mas\u001b[39;00m e:\n\u001b[0;32m     67\u001b[0m     filtered_tb \u001b[38;5;241m=\u001b[39m _process_traceback_frames(e\u001b[38;5;241m.\u001b[39m__traceback__)\n",
      "File \u001b[1;32m~\\AppData\\Local\\Packages\\PythonSoftwareFoundation.Python.3.11_qbz5n2kfra8p0\\LocalCache\\local-packages\\Python311\\site-packages\\keras\\src\\engine\\training.py:1807\u001b[0m, in \u001b[0;36mModel.fit\u001b[1;34m(self, x, y, batch_size, epochs, verbose, callbacks, validation_split, validation_data, shuffle, class_weight, sample_weight, initial_epoch, steps_per_epoch, validation_steps, validation_batch_size, validation_freq, max_queue_size, workers, use_multiprocessing)\u001b[0m\n\u001b[0;32m   1799\u001b[0m \u001b[38;5;28;01mwith\u001b[39;00m tf\u001b[38;5;241m.\u001b[39mprofiler\u001b[38;5;241m.\u001b[39mexperimental\u001b[38;5;241m.\u001b[39mTrace(\n\u001b[0;32m   1800\u001b[0m     \u001b[38;5;124m\"\u001b[39m\u001b[38;5;124mtrain\u001b[39m\u001b[38;5;124m\"\u001b[39m,\n\u001b[0;32m   1801\u001b[0m     epoch_num\u001b[38;5;241m=\u001b[39mepoch,\n\u001b[1;32m   (...)\u001b[0m\n\u001b[0;32m   1804\u001b[0m     _r\u001b[38;5;241m=\u001b[39m\u001b[38;5;241m1\u001b[39m,\n\u001b[0;32m   1805\u001b[0m ):\n\u001b[0;32m   1806\u001b[0m     callbacks\u001b[38;5;241m.\u001b[39mon_train_batch_begin(step)\n\u001b[1;32m-> 1807\u001b[0m     tmp_logs \u001b[38;5;241m=\u001b[39m \u001b[38;5;28;43mself\u001b[39;49m\u001b[38;5;241;43m.\u001b[39;49m\u001b[43mtrain_function\u001b[49m\u001b[43m(\u001b[49m\u001b[43miterator\u001b[49m\u001b[43m)\u001b[49m\n\u001b[0;32m   1808\u001b[0m     \u001b[38;5;28;01mif\u001b[39;00m data_handler\u001b[38;5;241m.\u001b[39mshould_sync:\n\u001b[0;32m   1809\u001b[0m         context\u001b[38;5;241m.\u001b[39masync_wait()\n",
      "File \u001b[1;32m~\\AppData\\Local\\Packages\\PythonSoftwareFoundation.Python.3.11_qbz5n2kfra8p0\\LocalCache\\local-packages\\Python311\\site-packages\\tensorflow\\python\\util\\traceback_utils.py:150\u001b[0m, in \u001b[0;36mfilter_traceback.<locals>.error_handler\u001b[1;34m(*args, **kwargs)\u001b[0m\n\u001b[0;32m    148\u001b[0m filtered_tb \u001b[38;5;241m=\u001b[39m \u001b[38;5;28;01mNone\u001b[39;00m\n\u001b[0;32m    149\u001b[0m \u001b[38;5;28;01mtry\u001b[39;00m:\n\u001b[1;32m--> 150\u001b[0m   \u001b[38;5;28;01mreturn\u001b[39;00m \u001b[43mfn\u001b[49m\u001b[43m(\u001b[49m\u001b[38;5;241;43m*\u001b[39;49m\u001b[43margs\u001b[49m\u001b[43m,\u001b[49m\u001b[43m \u001b[49m\u001b[38;5;241;43m*\u001b[39;49m\u001b[38;5;241;43m*\u001b[39;49m\u001b[43mkwargs\u001b[49m\u001b[43m)\u001b[49m\n\u001b[0;32m    151\u001b[0m \u001b[38;5;28;01mexcept\u001b[39;00m \u001b[38;5;167;01mException\u001b[39;00m \u001b[38;5;28;01mas\u001b[39;00m e:\n\u001b[0;32m    152\u001b[0m   filtered_tb \u001b[38;5;241m=\u001b[39m _process_traceback_frames(e\u001b[38;5;241m.\u001b[39m__traceback__)\n",
      "File \u001b[1;32m~\\AppData\\Local\\Packages\\PythonSoftwareFoundation.Python.3.11_qbz5n2kfra8p0\\LocalCache\\local-packages\\Python311\\site-packages\\tensorflow\\python\\eager\\polymorphic_function\\polymorphic_function.py:832\u001b[0m, in \u001b[0;36mFunction.__call__\u001b[1;34m(self, *args, **kwds)\u001b[0m\n\u001b[0;32m    829\u001b[0m compiler \u001b[38;5;241m=\u001b[39m \u001b[38;5;124m\"\u001b[39m\u001b[38;5;124mxla\u001b[39m\u001b[38;5;124m\"\u001b[39m \u001b[38;5;28;01mif\u001b[39;00m \u001b[38;5;28mself\u001b[39m\u001b[38;5;241m.\u001b[39m_jit_compile \u001b[38;5;28;01melse\u001b[39;00m \u001b[38;5;124m\"\u001b[39m\u001b[38;5;124mnonXla\u001b[39m\u001b[38;5;124m\"\u001b[39m\n\u001b[0;32m    831\u001b[0m \u001b[38;5;28;01mwith\u001b[39;00m OptionalXlaContext(\u001b[38;5;28mself\u001b[39m\u001b[38;5;241m.\u001b[39m_jit_compile):\n\u001b[1;32m--> 832\u001b[0m   result \u001b[38;5;241m=\u001b[39m \u001b[38;5;28;43mself\u001b[39;49m\u001b[38;5;241;43m.\u001b[39;49m\u001b[43m_call\u001b[49m\u001b[43m(\u001b[49m\u001b[38;5;241;43m*\u001b[39;49m\u001b[43margs\u001b[49m\u001b[43m,\u001b[49m\u001b[43m \u001b[49m\u001b[38;5;241;43m*\u001b[39;49m\u001b[38;5;241;43m*\u001b[39;49m\u001b[43mkwds\u001b[49m\u001b[43m)\u001b[49m\n\u001b[0;32m    834\u001b[0m new_tracing_count \u001b[38;5;241m=\u001b[39m \u001b[38;5;28mself\u001b[39m\u001b[38;5;241m.\u001b[39mexperimental_get_tracing_count()\n\u001b[0;32m    835\u001b[0m without_tracing \u001b[38;5;241m=\u001b[39m (tracing_count \u001b[38;5;241m==\u001b[39m new_tracing_count)\n",
      "File \u001b[1;32m~\\AppData\\Local\\Packages\\PythonSoftwareFoundation.Python.3.11_qbz5n2kfra8p0\\LocalCache\\local-packages\\Python311\\site-packages\\tensorflow\\python\\eager\\polymorphic_function\\polymorphic_function.py:868\u001b[0m, in \u001b[0;36mFunction._call\u001b[1;34m(self, *args, **kwds)\u001b[0m\n\u001b[0;32m    865\u001b[0m   \u001b[38;5;28mself\u001b[39m\u001b[38;5;241m.\u001b[39m_lock\u001b[38;5;241m.\u001b[39mrelease()\n\u001b[0;32m    866\u001b[0m   \u001b[38;5;66;03m# In this case we have created variables on the first call, so we run the\u001b[39;00m\n\u001b[0;32m    867\u001b[0m   \u001b[38;5;66;03m# defunned version which is guaranteed to never create variables.\u001b[39;00m\n\u001b[1;32m--> 868\u001b[0m   \u001b[38;5;28;01mreturn\u001b[39;00m \u001b[43mtracing_compilation\u001b[49m\u001b[38;5;241;43m.\u001b[39;49m\u001b[43mcall_function\u001b[49m\u001b[43m(\u001b[49m\n\u001b[0;32m    869\u001b[0m \u001b[43m      \u001b[49m\u001b[43margs\u001b[49m\u001b[43m,\u001b[49m\u001b[43m \u001b[49m\u001b[43mkwds\u001b[49m\u001b[43m,\u001b[49m\u001b[43m \u001b[49m\u001b[38;5;28;43mself\u001b[39;49m\u001b[38;5;241;43m.\u001b[39;49m\u001b[43m_no_variable_creation_config\u001b[49m\n\u001b[0;32m    870\u001b[0m \u001b[43m  \u001b[49m\u001b[43m)\u001b[49m\n\u001b[0;32m    871\u001b[0m \u001b[38;5;28;01melif\u001b[39;00m \u001b[38;5;28mself\u001b[39m\u001b[38;5;241m.\u001b[39m_variable_creation_config \u001b[38;5;129;01mis\u001b[39;00m \u001b[38;5;129;01mnot\u001b[39;00m \u001b[38;5;28;01mNone\u001b[39;00m:\n\u001b[0;32m    872\u001b[0m   \u001b[38;5;66;03m# Release the lock early so that multiple threads can perform the call\u001b[39;00m\n\u001b[0;32m    873\u001b[0m   \u001b[38;5;66;03m# in parallel.\u001b[39;00m\n\u001b[0;32m    874\u001b[0m   \u001b[38;5;28mself\u001b[39m\u001b[38;5;241m.\u001b[39m_lock\u001b[38;5;241m.\u001b[39mrelease()\n",
      "File \u001b[1;32m~\\AppData\\Local\\Packages\\PythonSoftwareFoundation.Python.3.11_qbz5n2kfra8p0\\LocalCache\\local-packages\\Python311\\site-packages\\tensorflow\\python\\eager\\polymorphic_function\\tracing_compilation.py:139\u001b[0m, in \u001b[0;36mcall_function\u001b[1;34m(args, kwargs, tracing_options)\u001b[0m\n\u001b[0;32m    137\u001b[0m bound_args \u001b[38;5;241m=\u001b[39m function\u001b[38;5;241m.\u001b[39mfunction_type\u001b[38;5;241m.\u001b[39mbind(\u001b[38;5;241m*\u001b[39margs, \u001b[38;5;241m*\u001b[39m\u001b[38;5;241m*\u001b[39mkwargs)\n\u001b[0;32m    138\u001b[0m flat_inputs \u001b[38;5;241m=\u001b[39m function\u001b[38;5;241m.\u001b[39mfunction_type\u001b[38;5;241m.\u001b[39munpack_inputs(bound_args)\n\u001b[1;32m--> 139\u001b[0m \u001b[38;5;28;01mreturn\u001b[39;00m \u001b[43mfunction\u001b[49m\u001b[38;5;241;43m.\u001b[39;49m\u001b[43m_call_flat\u001b[49m\u001b[43m(\u001b[49m\u001b[43m  \u001b[49m\u001b[38;5;66;43;03m# pylint: disable=protected-access\u001b[39;49;00m\n\u001b[0;32m    140\u001b[0m \u001b[43m    \u001b[49m\u001b[43mflat_inputs\u001b[49m\u001b[43m,\u001b[49m\u001b[43m \u001b[49m\u001b[43mcaptured_inputs\u001b[49m\u001b[38;5;241;43m=\u001b[39;49m\u001b[43mfunction\u001b[49m\u001b[38;5;241;43m.\u001b[39;49m\u001b[43mcaptured_inputs\u001b[49m\n\u001b[0;32m    141\u001b[0m \u001b[43m\u001b[49m\u001b[43m)\u001b[49m\n",
      "File \u001b[1;32m~\\AppData\\Local\\Packages\\PythonSoftwareFoundation.Python.3.11_qbz5n2kfra8p0\\LocalCache\\local-packages\\Python311\\site-packages\\tensorflow\\python\\eager\\polymorphic_function\\concrete_function.py:1323\u001b[0m, in \u001b[0;36mConcreteFunction._call_flat\u001b[1;34m(self, tensor_inputs, captured_inputs)\u001b[0m\n\u001b[0;32m   1319\u001b[0m possible_gradient_type \u001b[38;5;241m=\u001b[39m gradients_util\u001b[38;5;241m.\u001b[39mPossibleTapeGradientTypes(args)\n\u001b[0;32m   1320\u001b[0m \u001b[38;5;28;01mif\u001b[39;00m (possible_gradient_type \u001b[38;5;241m==\u001b[39m gradients_util\u001b[38;5;241m.\u001b[39mPOSSIBLE_GRADIENT_TYPES_NONE\n\u001b[0;32m   1321\u001b[0m     \u001b[38;5;129;01mand\u001b[39;00m executing_eagerly):\n\u001b[0;32m   1322\u001b[0m   \u001b[38;5;66;03m# No tape is watching; skip to running the function.\u001b[39;00m\n\u001b[1;32m-> 1323\u001b[0m   \u001b[38;5;28;01mreturn\u001b[39;00m \u001b[38;5;28;43mself\u001b[39;49m\u001b[38;5;241;43m.\u001b[39;49m\u001b[43m_inference_function\u001b[49m\u001b[38;5;241;43m.\u001b[39;49m\u001b[43mcall_preflattened\u001b[49m\u001b[43m(\u001b[49m\u001b[43margs\u001b[49m\u001b[43m)\u001b[49m\n\u001b[0;32m   1324\u001b[0m forward_backward \u001b[38;5;241m=\u001b[39m \u001b[38;5;28mself\u001b[39m\u001b[38;5;241m.\u001b[39m_select_forward_and_backward_functions(\n\u001b[0;32m   1325\u001b[0m     args,\n\u001b[0;32m   1326\u001b[0m     possible_gradient_type,\n\u001b[0;32m   1327\u001b[0m     executing_eagerly)\n\u001b[0;32m   1328\u001b[0m forward_function, args_with_tangents \u001b[38;5;241m=\u001b[39m forward_backward\u001b[38;5;241m.\u001b[39mforward()\n",
      "File \u001b[1;32m~\\AppData\\Local\\Packages\\PythonSoftwareFoundation.Python.3.11_qbz5n2kfra8p0\\LocalCache\\local-packages\\Python311\\site-packages\\tensorflow\\python\\eager\\polymorphic_function\\atomic_function.py:216\u001b[0m, in \u001b[0;36mAtomicFunction.call_preflattened\u001b[1;34m(self, args)\u001b[0m\n\u001b[0;32m    214\u001b[0m \u001b[38;5;28;01mdef\u001b[39;00m \u001b[38;5;21mcall_preflattened\u001b[39m(\u001b[38;5;28mself\u001b[39m, args: Sequence[core\u001b[38;5;241m.\u001b[39mTensor]) \u001b[38;5;241m-\u001b[39m\u001b[38;5;241m>\u001b[39m Any:\n\u001b[0;32m    215\u001b[0m \u001b[38;5;250m  \u001b[39m\u001b[38;5;124;03m\"\"\"Calls with flattened tensor inputs and returns the structured output.\"\"\"\u001b[39;00m\n\u001b[1;32m--> 216\u001b[0m   flat_outputs \u001b[38;5;241m=\u001b[39m \u001b[38;5;28;43mself\u001b[39;49m\u001b[38;5;241;43m.\u001b[39;49m\u001b[43mcall_flat\u001b[49m\u001b[43m(\u001b[49m\u001b[38;5;241;43m*\u001b[39;49m\u001b[43margs\u001b[49m\u001b[43m)\u001b[49m\n\u001b[0;32m    217\u001b[0m   \u001b[38;5;28;01mreturn\u001b[39;00m \u001b[38;5;28mself\u001b[39m\u001b[38;5;241m.\u001b[39mfunction_type\u001b[38;5;241m.\u001b[39mpack_output(flat_outputs)\n",
      "File \u001b[1;32m~\\AppData\\Local\\Packages\\PythonSoftwareFoundation.Python.3.11_qbz5n2kfra8p0\\LocalCache\\local-packages\\Python311\\site-packages\\tensorflow\\python\\eager\\polymorphic_function\\atomic_function.py:251\u001b[0m, in \u001b[0;36mAtomicFunction.call_flat\u001b[1;34m(self, *args)\u001b[0m\n\u001b[0;32m    249\u001b[0m \u001b[38;5;28;01mwith\u001b[39;00m record\u001b[38;5;241m.\u001b[39mstop_recording():\n\u001b[0;32m    250\u001b[0m   \u001b[38;5;28;01mif\u001b[39;00m \u001b[38;5;28mself\u001b[39m\u001b[38;5;241m.\u001b[39m_bound_context\u001b[38;5;241m.\u001b[39mexecuting_eagerly():\n\u001b[1;32m--> 251\u001b[0m     outputs \u001b[38;5;241m=\u001b[39m \u001b[38;5;28;43mself\u001b[39;49m\u001b[38;5;241;43m.\u001b[39;49m\u001b[43m_bound_context\u001b[49m\u001b[38;5;241;43m.\u001b[39;49m\u001b[43mcall_function\u001b[49m\u001b[43m(\u001b[49m\n\u001b[0;32m    252\u001b[0m \u001b[43m        \u001b[49m\u001b[38;5;28;43mself\u001b[39;49m\u001b[38;5;241;43m.\u001b[39;49m\u001b[43mname\u001b[49m\u001b[43m,\u001b[49m\n\u001b[0;32m    253\u001b[0m \u001b[43m        \u001b[49m\u001b[38;5;28;43mlist\u001b[39;49m\u001b[43m(\u001b[49m\u001b[43margs\u001b[49m\u001b[43m)\u001b[49m\u001b[43m,\u001b[49m\n\u001b[0;32m    254\u001b[0m \u001b[43m        \u001b[49m\u001b[38;5;28;43mlen\u001b[39;49m\u001b[43m(\u001b[49m\u001b[38;5;28;43mself\u001b[39;49m\u001b[38;5;241;43m.\u001b[39;49m\u001b[43mfunction_type\u001b[49m\u001b[38;5;241;43m.\u001b[39;49m\u001b[43mflat_outputs\u001b[49m\u001b[43m)\u001b[49m\u001b[43m,\u001b[49m\n\u001b[0;32m    255\u001b[0m \u001b[43m    \u001b[49m\u001b[43m)\u001b[49m\n\u001b[0;32m    256\u001b[0m   \u001b[38;5;28;01melse\u001b[39;00m:\n\u001b[0;32m    257\u001b[0m     outputs \u001b[38;5;241m=\u001b[39m make_call_op_in_graph(\n\u001b[0;32m    258\u001b[0m         \u001b[38;5;28mself\u001b[39m,\n\u001b[0;32m    259\u001b[0m         \u001b[38;5;28mlist\u001b[39m(args),\n\u001b[0;32m    260\u001b[0m         \u001b[38;5;28mself\u001b[39m\u001b[38;5;241m.\u001b[39m_bound_context\u001b[38;5;241m.\u001b[39mfunction_call_options\u001b[38;5;241m.\u001b[39mas_attrs(),\n\u001b[0;32m    261\u001b[0m     )\n",
      "File \u001b[1;32m~\\AppData\\Local\\Packages\\PythonSoftwareFoundation.Python.3.11_qbz5n2kfra8p0\\LocalCache\\local-packages\\Python311\\site-packages\\tensorflow\\python\\eager\\context.py:1486\u001b[0m, in \u001b[0;36mContext.call_function\u001b[1;34m(self, name, tensor_inputs, num_outputs)\u001b[0m\n\u001b[0;32m   1484\u001b[0m cancellation_context \u001b[38;5;241m=\u001b[39m cancellation\u001b[38;5;241m.\u001b[39mcontext()\n\u001b[0;32m   1485\u001b[0m \u001b[38;5;28;01mif\u001b[39;00m cancellation_context \u001b[38;5;129;01mis\u001b[39;00m \u001b[38;5;28;01mNone\u001b[39;00m:\n\u001b[1;32m-> 1486\u001b[0m   outputs \u001b[38;5;241m=\u001b[39m \u001b[43mexecute\u001b[49m\u001b[38;5;241;43m.\u001b[39;49m\u001b[43mexecute\u001b[49m\u001b[43m(\u001b[49m\n\u001b[0;32m   1487\u001b[0m \u001b[43m      \u001b[49m\u001b[43mname\u001b[49m\u001b[38;5;241;43m.\u001b[39;49m\u001b[43mdecode\u001b[49m\u001b[43m(\u001b[49m\u001b[38;5;124;43m\"\u001b[39;49m\u001b[38;5;124;43mutf-8\u001b[39;49m\u001b[38;5;124;43m\"\u001b[39;49m\u001b[43m)\u001b[49m\u001b[43m,\u001b[49m\n\u001b[0;32m   1488\u001b[0m \u001b[43m      \u001b[49m\u001b[43mnum_outputs\u001b[49m\u001b[38;5;241;43m=\u001b[39;49m\u001b[43mnum_outputs\u001b[49m\u001b[43m,\u001b[49m\n\u001b[0;32m   1489\u001b[0m \u001b[43m      \u001b[49m\u001b[43minputs\u001b[49m\u001b[38;5;241;43m=\u001b[39;49m\u001b[43mtensor_inputs\u001b[49m\u001b[43m,\u001b[49m\n\u001b[0;32m   1490\u001b[0m \u001b[43m      \u001b[49m\u001b[43mattrs\u001b[49m\u001b[38;5;241;43m=\u001b[39;49m\u001b[43mattrs\u001b[49m\u001b[43m,\u001b[49m\n\u001b[0;32m   1491\u001b[0m \u001b[43m      \u001b[49m\u001b[43mctx\u001b[49m\u001b[38;5;241;43m=\u001b[39;49m\u001b[38;5;28;43mself\u001b[39;49m\u001b[43m,\u001b[49m\n\u001b[0;32m   1492\u001b[0m \u001b[43m  \u001b[49m\u001b[43m)\u001b[49m\n\u001b[0;32m   1493\u001b[0m \u001b[38;5;28;01melse\u001b[39;00m:\n\u001b[0;32m   1494\u001b[0m   outputs \u001b[38;5;241m=\u001b[39m execute\u001b[38;5;241m.\u001b[39mexecute_with_cancellation(\n\u001b[0;32m   1495\u001b[0m       name\u001b[38;5;241m.\u001b[39mdecode(\u001b[38;5;124m\"\u001b[39m\u001b[38;5;124mutf-8\u001b[39m\u001b[38;5;124m\"\u001b[39m),\n\u001b[0;32m   1496\u001b[0m       num_outputs\u001b[38;5;241m=\u001b[39mnum_outputs,\n\u001b[1;32m   (...)\u001b[0m\n\u001b[0;32m   1500\u001b[0m       cancellation_manager\u001b[38;5;241m=\u001b[39mcancellation_context,\n\u001b[0;32m   1501\u001b[0m   )\n",
      "File \u001b[1;32m~\\AppData\\Local\\Packages\\PythonSoftwareFoundation.Python.3.11_qbz5n2kfra8p0\\LocalCache\\local-packages\\Python311\\site-packages\\tensorflow\\python\\eager\\execute.py:53\u001b[0m, in \u001b[0;36mquick_execute\u001b[1;34m(op_name, num_outputs, inputs, attrs, ctx, name)\u001b[0m\n\u001b[0;32m     51\u001b[0m \u001b[38;5;28;01mtry\u001b[39;00m:\n\u001b[0;32m     52\u001b[0m   ctx\u001b[38;5;241m.\u001b[39mensure_initialized()\n\u001b[1;32m---> 53\u001b[0m   tensors \u001b[38;5;241m=\u001b[39m \u001b[43mpywrap_tfe\u001b[49m\u001b[38;5;241;43m.\u001b[39;49m\u001b[43mTFE_Py_Execute\u001b[49m\u001b[43m(\u001b[49m\u001b[43mctx\u001b[49m\u001b[38;5;241;43m.\u001b[39;49m\u001b[43m_handle\u001b[49m\u001b[43m,\u001b[49m\u001b[43m \u001b[49m\u001b[43mdevice_name\u001b[49m\u001b[43m,\u001b[49m\u001b[43m \u001b[49m\u001b[43mop_name\u001b[49m\u001b[43m,\u001b[49m\n\u001b[0;32m     54\u001b[0m \u001b[43m                                      \u001b[49m\u001b[43minputs\u001b[49m\u001b[43m,\u001b[49m\u001b[43m \u001b[49m\u001b[43mattrs\u001b[49m\u001b[43m,\u001b[49m\u001b[43m \u001b[49m\u001b[43mnum_outputs\u001b[49m\u001b[43m)\u001b[49m\n\u001b[0;32m     55\u001b[0m \u001b[38;5;28;01mexcept\u001b[39;00m core\u001b[38;5;241m.\u001b[39m_NotOkStatusException \u001b[38;5;28;01mas\u001b[39;00m e:\n\u001b[0;32m     56\u001b[0m   \u001b[38;5;28;01mif\u001b[39;00m name \u001b[38;5;129;01mis\u001b[39;00m \u001b[38;5;129;01mnot\u001b[39;00m \u001b[38;5;28;01mNone\u001b[39;00m:\n",
      "\u001b[1;31mKeyboardInterrupt\u001b[0m: "
     ]
    }
   ],
   "source": [
    "sepmd = CREATE_SEPNET(se_model_list,loss='mse')\n",
    "sepmd.fit(train_X,train_y,batch_size=4,epochs=15,verbose=1,validation_data=(val_X,val_y))"
   ]
  },
  {
   "cell_type": "code",
   "execution_count": 388,
   "metadata": {},
   "outputs": [
    {
     "name": "stdout",
     "output_type": "stream",
     "text": [
      "87/87 [==============================] - 3s 22ms/step\n"
     ]
    }
   ],
   "source": [
    "prd = sepmd.predict(test_X)"
   ]
  },
  {
   "cell_type": "code",
   "execution_count": 419,
   "metadata": {},
   "outputs": [
    {
     "data": {
      "image/png": "[encoded data removed]",
      "text/plain": [
       "<Figure size 640x480 with 1 Axes>"
      ]
     },
     "metadata": {},
     "output_type": "display_data"
    }
   ],
   "source": [
    "from keras.models import load_model\n",
    "pyplot.figure()\n",
    "\n",
    "test_y=test_y.reshape(test_y.shape[0],96,7)\n",
    "wind = 1334\n",
    "iddx = 6\n",
    "\n",
    "combined_line = list(    test_y[wind-96][:, iddx])  + list(test_y[wind][:, iddx])\n",
    "pyplot.plot([None]*96+   list(prd[wind][:,iddx]+0.1),label='Predition')        #2016   3214\n",
    "pyplot.plot(combined_line,label='GroundTruth')\n",
    "pyplot.legend()\n",
    "pyplot.show()\n"
   ]
  },
  {
   "cell_type": "code",
   "execution_count": 321,
   "metadata": {},
   "outputs": [
    {
     "data": {
      "text/plain": [
       "(8448, 96, 7)"
      ]
     },
     "execution_count": 321,
     "metadata": {},
     "output_type": "execute_result"
    }
   ],
   "source": [
    "train_y.shape"
   ]
  },
  {
   "cell_type": "code",
   "execution_count": 322,
   "metadata": {},
   "outputs": [
    {
     "name": "stdout",
     "output_type": "stream",
     "text": [
      "3/3 [==============================] - 0s 0s/step\n"
     ]
    },
    {
     "data": {
      "image/png": "[encoded data removed]",
      "text/plain": [
       "<Figure size 640x480 with 1 Axes>"
      ]
     },
     "metadata": {},
     "output_type": "display_data"
    }
   ],
   "source": [
    "from keras.models import load_model\n",
    "# load model from single file\n",
    "\n",
    "var_idx=2\n",
    "model1 = load_model('se_'+str(var_idx)+'.h5')\n",
    "\n",
    "\n",
    "idx = 1126\n",
    "qqq = model1.predict(test_X[idx,:,var_idx:var_idx+1])\n",
    "qqq=qqq.reshape(96,1)\n",
    "pyplot.figure()\n",
    "pyplot.plot(qqq)\n",
    "pyplot.plot(test_y[idx,:,var_idx])\n",
    "pyplot.show()\n"
   ]
  },
  {
   "cell_type": "code",
   "execution_count": 323,
   "metadata": {},
   "outputs": [
    {
     "data": {
      "text/plain": [
       "array([[0.77355396],\n",
       "       [0.79494052],\n",
       "       [0.8134008 ],\n",
       "       [0.85423219],\n",
       "       [0.83188844],\n",
       "       [0.85617394],\n",
       "       [0.81050185],\n",
       "       [0.83284563],\n",
       "       [0.81925341],\n",
       "       [0.8172843 ],\n",
       "       [0.75607823],\n",
       "       [0.45674827],\n",
       "       [0.28765214],\n",
       "       [0.56852182],\n",
       "       [0.54713525],\n",
       "       [0.46645701],\n",
       "       [0.30515522],\n",
       "       [0.549077  ],\n",
       "       [0.66569125],\n",
       "       [0.74245864],\n",
       "       [0.7434432 ],\n",
       "       [0.73857516],\n",
       "       [0.71817313],\n",
       "       [0.76190347],\n",
       "       [0.75607823],\n",
       "       [0.79204157],\n",
       "       [0.82603583],\n",
       "       [0.77259676],\n",
       "       [0.8095173 ],\n",
       "       [0.78618899],\n",
       "       [0.82797758],\n",
       "       [0.8085601 ],\n",
       "       [0.80661835],\n",
       "       [0.84449611],\n",
       "       [0.8095173 ],\n",
       "       [0.73663341],\n",
       "       [0.65209901],\n",
       "       [0.7026118 ],\n",
       "       [0.68415152],\n",
       "       [0.70553809],\n",
       "       [0.65305622],\n",
       "       [0.6219609 ],\n",
       "       [0.68707781],\n",
       "       [0.76578697],\n",
       "       [0.73857516],\n",
       "       [0.74538494],\n",
       "       [0.73176536],\n",
       "       [0.72205663],\n",
       "       [0.7774648 ],\n",
       "       [0.82991933],\n",
       "       [0.82702038],\n",
       "       [0.85713114],\n",
       "       [0.79204157],\n",
       "       [0.82313688],\n",
       "       [0.81050185],\n",
       "       [0.79009982],\n",
       "       [0.78618899],\n",
       "       [0.81438535],\n",
       "       [0.72982361],\n",
       "       [0.32361551],\n",
       "       [0.14576783],\n",
       "       [0.11078902],\n",
       "       [0.24682074],\n",
       "       [0.30318611],\n",
       "       [0.30903872],\n",
       "       [0.48007659],\n",
       "       [0.67539999],\n",
       "       [0.73761795],\n",
       "       [0.74245864],\n",
       "       [0.73857516],\n",
       "       [0.72498292],\n",
       "       [0.71428964],\n",
       "       [0.75315194],\n",
       "       [0.75703542],\n",
       "       [0.77355396],\n",
       "       [0.78036375],\n",
       "       [0.78036375],\n",
       "       [0.79009982],\n",
       "       [0.76772872],\n",
       "       [0.74926844],\n",
       "       [0.75121019],\n",
       "       [0.80757557],\n",
       "       [0.73080816],\n",
       "       [0.49853687],\n",
       "       [0.33819229],\n",
       "       [0.12049775],\n",
       "       [0.3935731 ],\n",
       "       [0.07578285],\n",
       "       [0.20601671],\n",
       "       [0.36247779],\n",
       "       [0.69290306],\n",
       "       [0.72304117],\n",
       "       [0.73469166],\n",
       "       [0.73080816],\n",
       "       [0.71913033],\n",
       "       [0.70165459]])"
      ]
     },
     "execution_count": 323,
     "metadata": {},
     "output_type": "execute_result"
    }
   ],
   "source": [
    "test_X[idx,:,var_idx:var_idx+1]"
   ]
  }
 ],
 "metadata": {
  "kernelspec": {
   "display_name": "Python 3",
   "language": "python",
   "name": "python3"
  },
  "language_info": {
   "codemirror_mode": {
    "name": "ipython",
    "version": 3
   },
   "file_extension": ".py",
   "mimetype": "text/x-python",
   "name": "python",
   "nbconvert_exporter": "python",
   "pygments_lexer": "ipython3",
   "version": "3.11.7"
  }
 },
 "nbformat": 4,
 "nbformat_minor": 2
}
