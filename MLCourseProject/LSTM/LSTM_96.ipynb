{
 "cells": [
  {
   "cell_type": "code",
   "execution_count": 172,
   "metadata": {},
   "outputs": [],
   "source": [
    "from math import sqrt\n",
    "from numpy import concatenate\n",
    "from matplotlib import pyplot\n",
    "from pandas import read_csv\n",
    "from pandas import DataFrame\n",
    "from pandas import concat\n",
    "from sklearn.preprocessing import MinMaxScaler\n",
    "from sklearn.preprocessing import LabelEncoder\n",
    "from sklearn.metrics import mean_squared_error\n",
    "from keras.models import Sequential\n",
    "from keras.layers import Dense\n",
    "from keras.layers import LSTM\n",
    "import pandas as pd\n",
    "import numpy as np\n"
   ]
  },
  {
   "cell_type": "code",
   "execution_count": 173,
   "metadata": {},
   "outputs": [],
   "source": [
    "# 将数据集使用滑动窗口方法制作成监督学习\n",
    "def series_to_supervised(df,n_in=96, n_out=96):   #传入的data应当是一个frame\n",
    "    n_vars = df.shape[1]         #获取变量数\n",
    "    df=DataFrame(df)\n",
    "    cols, names = [], []\n",
    "    #i: n_in, n_in-1, ..., 1，为滞后期数\n",
    "    #分别代表t-n_in, ... ,t-1期\n",
    "    for i in range(n_in, 0, -1):\n",
    "        cols.append(df.shift(i))\n",
    "        names += [('var%d(t-%d)' % (j+1, i)) for j in range(n_vars)]\n",
    "    #i: 0, 1, ..., n_out-1，为超前预测的期数\n",
    "    #分别代表t，t+1， ... ,t+n_out-1期\n",
    "    for i in range(0, n_out):\n",
    "        cols.append(df.shift(-i))\n",
    "        if i == 0:\n",
    "            names += [('var%d(t)' % (j+1)) for j in range(n_vars)]\n",
    "        else:\n",
    "            names += [('var%d(t+%d)' % (j+1, i)) for j in range(n_vars)]\n",
    "    agg = concat(cols, axis=1)\n",
    "    agg.columns = names\n",
    "\n",
    "    return agg"
   ]
  },
  {
   "cell_type": "code",
   "execution_count": 174,
   "metadata": {},
   "outputs": [
    {
     "name": "stderr",
     "output_type": "stream",
     "text": [
      "C:\\Users\\12204\\AppData\\Local\\Temp\\ipykernel_22020\\1782723478.py:2: FutureWarning: The argument 'infer_datetime_format' is deprecated and will be removed in a future version. A strict version of it is now the default, see https://pandas.pydata.org/pdeps/0004-consistent-to-datetime-parsing.html. You can safely remove this argument.\n",
      "  dataset_train=pd.read_csv(\"train_set.csv\",infer_datetime_format=True,index_col='date')    #设置时间戳索引\n",
      "C:\\Users\\12204\\AppData\\Local\\Temp\\ipykernel_22020\\1782723478.py:3: FutureWarning: The argument 'infer_datetime_format' is deprecated and will be removed in a future version. A strict version of it is now the default, see https://pandas.pydata.org/pdeps/0004-consistent-to-datetime-parsing.html. You can safely remove this argument.\n",
      "  dataset_test=pd.read_csv(\"test_set.csv\",infer_datetime_format=True,index_col='date')    #设置时间戳索引\n",
      "C:\\Users\\12204\\AppData\\Local\\Temp\\ipykernel_22020\\1782723478.py:4: FutureWarning: The argument 'infer_datetime_format' is deprecated and will be removed in a future version. A strict version of it is now the default, see https://pandas.pydata.org/pdeps/0004-consistent-to-datetime-parsing.html. You can safely remove this argument.\n",
      "  dataset_val=pd.read_csv(\"validation_set.csv\",infer_datetime_format=True,index_col='date')    #设置时间戳索引\n"
     ]
    }
   ],
   "source": [
    "#读取数据集\n",
    "dataset_train=pd.read_csv(\"train_set.csv\",infer_datetime_format=True,index_col='date')    #设置时间戳索引\n",
    "dataset_test=pd.read_csv(\"test_set.csv\",infer_datetime_format=True,index_col='date')    #设置时间戳索引\n",
    "dataset_val=pd.read_csv(\"validation_set.csv\",infer_datetime_format=True,index_col='date')    #设置时间戳索引\n",
    "\n",
    "\n",
    "values_train = dataset_train.values\n",
    "values_test = dataset_test.values\n",
    "values_val = dataset_val.values\n",
    "\n"
   ]
  },
  {
   "cell_type": "code",
   "execution_count": 175,
   "metadata": {},
   "outputs": [],
   "source": [
    "scaler = MinMaxScaler(feature_range=(0, 1))\n",
    "scaled_train = scaler.fit_transform(values_train)\n",
    "scaled_test = scaler.fit_transform(values_test)\n",
    "scaled_val = scaler.fit_transform(values_val)\n",
    "\n",
    "# scale         #归一化"
   ]
  },
  {
   "cell_type": "code",
   "execution_count": 316,
   "metadata": {},
   "outputs": [
    {
     "data": {
      "text/plain": [
       "(8640, 7)"
      ]
     },
     "execution_count": 316,
     "metadata": {},
     "output_type": "execute_result"
    }
   ],
   "source": [
    "scaled_train.shape"
   ]
  },
  {
   "cell_type": "code",
   "execution_count": 176,
   "metadata": {},
   "outputs": [
    {
     "data": {
      "text/plain": [
       "(8640, 1344)"
      ]
     },
     "execution_count": 176,
     "metadata": {},
     "output_type": "execute_result"
    }
   ],
   "source": [
    "reframed_train = series_to_supervised(scaled_train, 96, 96)\n",
    "reframed_test = series_to_supervised(scaled_test, 96, 96)\n",
    "reframed_val = series_to_supervised(scaled_val, 96, 96)\n",
    "\n",
    "\n",
    "reframed_train.shape"
   ]
  },
  {
   "cell_type": "code",
   "execution_count": 177,
   "metadata": {},
   "outputs": [],
   "source": [
    "# reframed = reframed[:]\n",
    "# reframed.shape"
   ]
  },
  {
   "cell_type": "code",
   "execution_count": 178,
   "metadata": {},
   "outputs": [],
   "source": [
    "n_in = 96\n",
    "n_out=96\n",
    "n_vars=7\n",
    "col_names = ['HUFL','HULL','MUFL','MULL','LUFL','LULL','OT']\n",
    "contain_vars = []\n",
    "for i in range(n_in,0,-1):\n",
    "    contain_vars += [('%s(t-%d)' % (col_names[j], i)) for j in range(0,n_vars)]  \n",
    "for i in range(0, n_out):\n",
    "    contain_vars += [('%s(t+%d)' % (col_names[j], i)) for j in range(0,n_vars)]  \n",
    "\n",
    "len(contain_vars)\n",
    "\n",
    "reframed_train.columns=contain_vars\n",
    "reframed_test.columns=contain_vars\n",
    "reframed_val.columns=contain_vars\n",
    "\n",
    "import copy\n",
    "data_train = copy.deepcopy(reframed_train)\n",
    "data_test = copy.deepcopy(reframed_test)\n",
    "data_val = copy.deepcopy(reframed_val)\n"
   ]
  },
  {
   "cell_type": "code",
   "execution_count": 180,
   "metadata": {},
   "outputs": [],
   "source": [
    "pd.set_option('display.max_columns', None)\n",
    "trainn = data_train.values\n",
    "vall = data_val.values\n",
    "testt = data_test.values\n",
    "\n",
    "# data.shape\n",
    "# data.values\n",
    "# values=data.values\n",
    "# data\n",
    "# n_train = round(data.shape[0]*0.6)\n",
    "# n_val = round(data.shape[0]*0.2)\n",
    "# trainn = values[:n_train, :]\n",
    "# vall = values[n_train:n_train+n_val, :]\n",
    "# testt = values[n_train+n_val:, :]\n",
    "\n",
    "\n",
    "\n",
    "\n",
    "\n",
    "train_X, train_y = trainn[:, :n_in*n_vars], trainn[:, n_in*n_vars:]\n",
    "val_X, val_y = vall[:, :n_in*n_vars], vall[:, n_in*n_vars:]\n",
    "test_X, test_y = testt[:, :n_in*n_vars], testt[:, n_in*n_vars:]\n",
    "\n",
    "train_X = train_X.reshape((train_X.shape[0], n_in, n_vars))\n",
    "# train_y = train_y.reshape((train_y.shape[0], n_in, n_vars))\n",
    "\n",
    "val_X = val_X.reshape((val_X.shape[0], n_in, n_vars))\n",
    "# val_y= val_y.reshape((val_y.shape[0], n_in, n_vars))\n",
    "\n",
    "test_X =test_X.reshape((test_X.shape[0], n_in, n_vars))\n",
    "# test_y =test_y.reshape((test_X.shape[0], n_in, n_vars))\n",
    "\n",
    "\n",
    "#将输入X改造为LSTM的输入格式，即[samples,timesteps,features]\n",
    "# train_X = train_X.reshape((train_X.shape[0], n_in, n_vars))\n",
    "# test_X = test_X.reshape((test_X.shape[0], n_in, n_vars))\n",
    "# return scaler, data, train_X, train_y, test_X, test_y, dataset\n"
   ]
  },
  {
   "cell_type": "code",
   "execution_count": null,
   "metadata": {},
   "outputs": [],
   "source": [
    "\n",
    "train_X.shape\n",
    "trainn.shape\n",
    "train_X[-1]"
   ]
  },
  {
   "cell_type": "code",
   "execution_count": 182,
   "metadata": {},
   "outputs": [],
   "source": [
    "def fit_lstm(train_Xx,train_yy,val_Xx,val_yy, n_neurons=50, n_batch=72, n_epoch=10, loss='mae', optimizer='adam', repeats=1):\n",
    "    train_X = train_Xx\n",
    "    train_y = train_yy\n",
    "    val_X = val_Xx\n",
    "    val_y = val_yy\n",
    "\n",
    "    model_list = []\n",
    "    for i in range(repeats):\n",
    "        #设计神经网络\n",
    "        model = Sequential()\n",
    "        model.add(LSTM(n_neurons, input_shape=(train_X.shape[1], train_X.shape[2])))\n",
    "        model.add(Dense(train_y.shape[1]))\n",
    "        model.compile(loss=loss, optimizer=optimizer)\n",
    "        #拟合神经网络\n",
    "        history = model.fit(train_X, train_y, epochs=n_epoch, batch_size=n_batch, validation_data=(val_X, val_y), verbose=0, shuffle=False)\n",
    "        #画出学习过程\n",
    "        p1 = pyplot.plot(history.history['loss'], color='blue', label='train')\n",
    "        p2 = pyplot.plot(history.history['val_loss'], color='yellow',label='val')\n",
    "        #保存model\n",
    "        model_list.append(model)\n",
    "    pyplot.legend([\"train\",\"test\"])\n",
    "    pyplot.show()\n",
    "    return model_list"
   ]
  },
  {
   "cell_type": "code",
   "execution_count": 183,
   "metadata": {},
   "outputs": [],
   "source": [
    "def lstm_predict(model, scaler,test_X,test_y):\n",
    "    # 做出预测\n",
    "    yhat = model.predict(test_X)\n",
    "    #将测试集上的预测值还原为原来的数据维度\n",
    "    scale_new = MinMaxScaler()\n",
    "    scale_new.min_, scale_new.scale_ = scaler.min_[0], scaler.scale_[0]\n",
    "    inv_yhat = scale_new.inverse_transform(yhat)\n",
    "    #将测试集上的实际值还原为原来的数据维度\n",
    "    inv_y = scale_new.inverse_transform(test_y)\n",
    "    return inv_yhat, inv_y"
   ]
  },
  {
   "cell_type": "code",
   "execution_count": 184,
   "metadata": {},
   "outputs": [],
   "source": [
    "def evaluate_forecasts(test, forecasts, n_out):\n",
    "    rmse_dic = {}\n",
    "    for i in range(n_out):\n",
    "        actual = [float(row[i]) for row in test]\n",
    "        predicted = [float(forecast[i]) for forecast in forecasts]\n",
    "        rmse = sqrt(mean_squared_error(actual, predicted))\n",
    "        rmse_dic['t+' + str(i+1) + ' RMSE'] = rmse\n",
    "    return rmse_dic"
   ]
  },
  {
   "cell_type": "code",
   "execution_count": 185,
   "metadata": {},
   "outputs": [],
   "source": [
    "#以原始数据为背景画出预测数据\n",
    "def plot_forecasts(series, forecasts):\n",
    "    #用蓝色画出原始数据集\n",
    "    pyplot.plot(series.values)\n",
    "    n_seq = len(forecasts[0])\n",
    "    #用红色画出预测值\n",
    "    for i in range(1,len(forecasts)+1):\n",
    "        xaxis = [x for x in range(i, i+n_seq+1)]\n",
    "        yaxis = [float(series.iloc[i-1,0])] + list(forecasts[i-1])\n",
    "        pyplot.plot(xaxis, yaxis, color='red')\n",
    "    #展示图像\n",
    "    pyplot.show()"
   ]
  },
  {
   "cell_type": "code",
   "execution_count": 187,
   "metadata": {},
   "outputs": [],
   "source": [
    "train_y=train_y.reshape(train_y.shape[0],96,7)\n",
    "val_y=val_y.reshape(val_y.shape[0],96,7)\n",
    "train_y.shape\n",
    "                  \n",
    "train_X = train_X[96:]\n",
    "train_y = train_y[:-96]\n",
    "val_X=val_X[96:]\n",
    "val_y = val_y[:-96]\n",
    "# train_y[-96:]\n",
    "\n"
   ]
  },
  {
   "cell_type": "code",
   "execution_count": 189,
   "metadata": {},
   "outputs": [
    {
     "name": "stdout",
     "output_type": "stream",
     "text": [
      "Epoch 1/15\n",
      "  42/1068 [>.............................] - ETA: 16s - loss: 0.1931"
     ]
    },
    {
     "name": "stdout",
     "output_type": "stream",
     "text": [
      "1068/1068 [==============================] - 23s 21ms/step - loss: 0.0406 - val_loss: 0.0782\n",
      "Epoch 2/15\n",
      "1068/1068 [==============================] - 26s 24ms/step - loss: 0.0121 - val_loss: 0.0425\n",
      "Epoch 3/15\n",
      "1068/1068 [==============================] - 23s 21ms/step - loss: 0.0077 - val_loss: 0.0193\n",
      "Epoch 4/15\n",
      "1068/1068 [==============================] - 23s 21ms/step - loss: 0.0058 - val_loss: 0.0146\n",
      "Epoch 5/15\n",
      "1068/1068 [==============================] - 24s 23ms/step - loss: 0.0048 - val_loss: 0.0124\n",
      "Epoch 6/15\n",
      "1068/1068 [==============================] - 24s 23ms/step - loss: 0.0039 - val_loss: 0.0118\n",
      "Epoch 7/15\n",
      "1068/1068 [==============================] - 19s 18ms/step - loss: 0.0031 - val_loss: 0.0110\n",
      "Epoch 8/15\n",
      "1068/1068 [==============================] - 15s 14ms/step - loss: 0.0031 - val_loss: 0.0111\n",
      "Epoch 9/15\n",
      "1068/1068 [==============================] - 16s 15ms/step - loss: 0.0029 - val_loss: 0.0102\n",
      "Epoch 10/15\n",
      "1068/1068 [==============================] - 17s 16ms/step - loss: 0.0026 - val_loss: 0.0102\n",
      "Epoch 11/15\n",
      "1068/1068 [==============================] - 15s 14ms/step - loss: 0.0025 - val_loss: 0.0098\n",
      "Epoch 12/15\n",
      "1068/1068 [==============================] - 16s 15ms/step - loss: 0.0025 - val_loss: 0.0104\n",
      "Epoch 13/15\n",
      "1068/1068 [==============================] - 16s 15ms/step - loss: 0.0024 - val_loss: 0.0108\n",
      "Epoch 14/15\n",
      "1068/1068 [==============================] - 16s 15ms/step - loss: 0.0025 - val_loss: 0.0098\n",
      "Epoch 15/15\n",
      "1068/1068 [==============================] - 15s 14ms/step - loss: 0.0024 - val_loss: 0.0096\n"
     ]
    }
   ],
   "source": [
    "\n",
    "from keras.layers import Dense\n",
    "from keras.layers import Flatten\n",
    "from keras.layers import LSTM\n",
    "from keras.layers import RepeatVector\n",
    "from keras.layers import TimeDistributed\n",
    "from keras.layers import Dropout\n",
    "\n",
    "model = Sequential()\n",
    "model.add(LSTM(100,activation='relu',input_shape=(96, 7),return_sequences=True))\n",
    "model.add(TimeDistributed(Dense(7)))\n",
    "model.compile(loss='mae', optimizer='adam')\n",
    "hst = model.fit(train_X, train_y, epochs=50, batch_size=8, validation_data=(val_X, val_y), verbose=1, shuffle=False)"
   ]
  },
  {
   "cell_type": "code",
   "execution_count": 190,
   "metadata": {},
   "outputs": [
    {
     "name": "stdout",
     "output_type": "stream",
     "text": [
      "93/93 [==============================] - 1s 10ms/step\n"
     ]
    }
   ],
   "source": [
    "v = model.predict(test_X)"
   ]
  },
  {
   "cell_type": "code",
   "execution_count": 304,
   "metadata": {},
   "outputs": [
    {
     "data": {
      "image/png": "[encoded data removed]",
      "text/plain": [
       "<Figure size 640x480 with 1 Axes>"
      ]
     },
     "metadata": {},
     "output_type": "display_data"
    }
   ],
   "source": [
    "\n",
    "pyplot.figure()\n",
    "\n",
    "test_y=test_y.reshape(test_y.shape[0],96,7)\n",
    "\n",
    "# pyplot.plot(test_y[3213][:,6])\n",
    "# pyplot.plot(test_y[3214][:,6])\n",
    "\n",
    "wind = 294\n",
    "iddx = 6\n",
    "\n",
    "combined_line = list(    test_y[wind-96][:, iddx])  + list(test_y[wind][:, iddx])\n",
    "pyplot.plot([None]*96+   list(v[wind][:,iddx]),label='Predition')        #2016   3214\n",
    "pyplot.plot(combined_line,label='GroundTruth')\n",
    "pyplot.legend()\n",
    "pyplot.show()\n"
   ]
  },
  {
   "cell_type": "code",
   "execution_count": 315,
   "metadata": {},
   "outputs": [],
   "source": [
    "# original_data_prd = scaler.inverse_transform(v)\n",
    "test_y = test_y.reshape(2976,672)\n",
    "# original_data_y = scaler.inverse_transform(test_y)\n",
    "\n",
    "\n",
    "\n",
    "\n",
    "# def  get_ev(grd,prd):\n",
    "#     avg = 0\n",
    "#     std = 0\n",
    "    \n",
    "\n"
   ]
  },
  {
   "cell_type": "code",
   "execution_count": 271,
   "metadata": {},
   "outputs": [
    {
     "name": "stdout",
     "output_type": "stream",
     "text": [
      "Epoch 1/15\n",
      "1068/1068 [==============================] - 15s 13ms/step - loss: 1.0171 - val_loss: 0.0301\n",
      "Epoch 2/15\n",
      "1068/1068 [==============================] - 14s 13ms/step - loss: 0.0028 - val_loss: 0.0254\n",
      "Epoch 3/15\n",
      "1068/1068 [==============================] - 14s 13ms/step - loss: 0.0015 - val_loss: 0.0203\n",
      "Epoch 4/15\n",
      "1068/1068 [==============================] - 14s 13ms/step - loss: 8.8382e-04 - val_loss: 0.0171\n",
      "Epoch 5/15\n",
      "1068/1068 [==============================] - 13s 13ms/step - loss: 6.6848e-04 - val_loss: 0.0153\n",
      "Epoch 6/15\n",
      "1068/1068 [==============================] - 13s 12ms/step - loss: 5.6016e-04 - val_loss: 0.0126\n",
      "Epoch 7/15\n",
      "1068/1068 [==============================] - 13s 12ms/step - loss: 4.6918e-04 - val_loss: 0.0104\n",
      "Epoch 8/15\n",
      "1068/1068 [==============================] - 14s 13ms/step - loss: 3.7042e-04 - val_loss: 0.0092\n",
      "Epoch 9/15\n",
      "1068/1068 [==============================] - 14s 13ms/step - loss: 3.0541e-04 - val_loss: 0.0060\n",
      "Epoch 10/15\n",
      "1068/1068 [==============================] - 14s 13ms/step - loss: 1.7733e-04 - val_loss: 0.0032\n",
      "Epoch 11/15\n",
      "1068/1068 [==============================] - 14s 13ms/step - loss: 9.2486e-05 - val_loss: 0.0010\n",
      "Epoch 12/15\n",
      "1068/1068 [==============================] - 14s 13ms/step - loss: 4.7079e-05 - val_loss: 5.6205e-04\n",
      "Epoch 13/15\n",
      "1068/1068 [==============================] - 14s 13ms/step - loss: 2.4474e-05 - val_loss: 4.2596e-04\n",
      "Epoch 14/15\n",
      "1068/1068 [==============================] - 14s 13ms/step - loss: 1.2870e-05 - val_loss: 3.7860e-04\n",
      "Epoch 15/15\n",
      "1068/1068 [==============================] - 14s 13ms/step - loss: 9.2321e-06 - val_loss: 3.4947e-04\n"
     ]
    },
    {
     "data": {
      "text/plain": [
       "<keras.src.callbacks.History at 0x212861f05d0>"
      ]
     },
     "execution_count": 271,
     "metadata": {},
     "output_type": "execute_result"
    }
   ],
   "source": [
    "from keras.layers import Dense\n",
    "from keras.layers import Flatten\n",
    "from keras.layers import LSTM\n",
    "from keras.layers import RepeatVector\n",
    "from keras.layers import TimeDistributed\n",
    "from keras.layers import Dropout\n",
    "\n",
    "model2 = Sequential()\n",
    "model2.add(LSTM(100,activation='relu',input_shape=(96, 7),return_sequences=True))\n",
    "model2.add(TimeDistributed(Dense(7)))\n",
    "model2.compile(loss='mse', optimizer='adam')\n",
    "model2.fit(train_X, train_y, epochs=15, batch_size=8, validation_data=(val_X, val_y), verbose=1, shuffle=False)"
   ]
  },
  {
   "cell_type": "code",
   "execution_count": null,
   "metadata": {},
   "outputs": [],
   "source": []
  },
  {
   "cell_type": "code",
   "execution_count": 317,
   "metadata": {},
   "outputs": [
    {
     "data": {
      "image/png": "[encoded data removed]",
      "text/plain": [
       "<Figure size 640x480 with 1 Axes>"
      ]
     },
     "metadata": {},
     "output_type": "display_data"
    }
   ],
   "source": [
    "pyplot.figure()\n",
    "\n",
    "test_y=test_y.reshape(test_y.shape[0],96,7)\n",
    "\n",
    "wind = 814\n",
    "iddx = 6\n",
    "\n",
    "combined_line = list(    test_y[wind-96][:, iddx])  + list(test_y[wind][:, iddx])\n",
    "pyplot.plot([None]*96+   list(vvq[wind][:,iddx]+0.06),label='Predition')        #2016   3214\n",
    "pyplot.plot(combined_line,label='GroundTruth')\n",
    "pyplot.legend()\n",
    "pyplot.show()"
   ]
  },
  {
   "cell_type": "code",
   "execution_count": 330,
   "metadata": {},
   "outputs": [
    {
     "data": {
      "text/plain": [
       "1.6273511175448598"
      ]
     },
     "execution_count": 330,
     "metadata": {},
     "output_type": "execute_result"
    }
   ],
   "source": [
    "\n",
    "wind = 252\n",
    "iddx=6\n",
    "ss = vvq[wind][:,iddx]+0.06 - test_y[wind-96][:, iddx]\n",
    "s = 0\n",
    "for i in ss:\n",
    "    s+=i\n",
    "\n",
    "s/96*30"
   ]
  }
 ],
 "metadata": {
  "kernelspec": {
   "display_name": "Python 3",
   "language": "python",
   "name": "python3"
  },
  "language_info": {
   "codemirror_mode": {
    "name": "ipython",
    "version": 3
   },
   "file_extension": ".py",
   "mimetype": "text/x-python",
   "name": "python",
   "nbconvert_exporter": "python",
   "pygments_lexer": "ipython3",
   "version": "3.11.7"
  }
 },
 "nbformat": 4,
 "nbformat_minor": 2
}
